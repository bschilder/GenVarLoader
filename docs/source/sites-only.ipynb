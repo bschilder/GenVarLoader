{
 "cells": [
  {
   "cell_type": "code",
   "execution_count": 8,
   "metadata": {},
   "outputs": [],
   "source": [
    "import genvarloader as gvl\n",
    "import pooch\n",
    "from pathlib import Path\n",
    "import pyranges as pr\n",
    "import polars as pl\n",
    "from tempfile import NamedTemporaryFile\n",
    "from loguru import logger\n",
    "import numpy as np"
   ]
  },
  {
   "cell_type": "code",
   "execution_count": 2,
   "metadata": {},
   "outputs": [],
   "source": [
    "logger.enable('genvarloader')"
   ]
  },
  {
   "cell_type": "code",
   "execution_count": 3,
   "metadata": {},
   "outputs": [],
   "source": [
    "reference = \"/carter/shared/genomes/homo_sapiens/ensembl_grch38.p13_v109/Homo_sapiens.GRCh38.dna.toplevel.fa.gz\""
   ]
  },
  {
   "cell_type": "code",
   "execution_count": 30,
   "metadata": {},
   "outputs": [
    {
     "name": "stderr",
     "output_type": "stream",
     "text": [
      "\u001b[32m2025-03-20 14:20:19.361\u001b[0m | \u001b[1mINFO    \u001b[0m | \u001b[36mgenvarloader._dataset._impl\u001b[0m:\u001b[36mopen\u001b[0m:\u001b[36m225\u001b[0m - \u001b[1mLoading reference genome into memory. This typically has a modest memory footprint (a few GB) and greatly improves performance.\u001b[0m\n",
      "\u001b[32m2025-03-20 14:20:19.440\u001b[0m | \u001b[1mINFO    \u001b[0m | \u001b[36mgenvarloader._dataset._impl\u001b[0m:\u001b[36mopen\u001b[0m:\u001b[36m284\u001b[0m - \u001b[1mOpened dataset:\n",
      "GVL store at /cellar/users/dlaub/projects/GenVarLoader/tests/data/phased_dataset.gvl\n",
      "Is subset: False\n",
      "# of regions: 8\n",
      "# of samples: 3\n",
      "Output length: ragged\n",
      "Jitter: 0 (max: 0)\n",
      "Deterministic: True\n",
      "Sequence type: reference [haplotypes] annotated\n",
      "Active tracks: None\n",
      "Tracks available: None\n",
      "\u001b[0m\n"
     ]
    }
   ],
   "source": [
    "ds = gvl.Dataset.open(\n",
    "    \"/cellar/users/dlaub/projects/GenVarLoader/tests/data/phased_dataset.gvl\", reference\n",
    ").with_len(20)\n",
    "center = (pl.col(\"chromEnd\") + pl.col(\"chromStart\")) // 2\n",
    "sites = ds.regions.with_columns(POS=center, ALT=pl.lit(\"T\")).rename({'chrom': \"#CHROM\"}).drop(\n",
    "    \"chromStart\", \"chromEnd\"\n",
    ")"
   ]
  },
  {
   "cell_type": "code",
   "execution_count": 31,
   "metadata": {},
   "outputs": [
    {
     "data": {
      "text/html": [
       "<div><style>\n",
       ".dataframe > thead > tr,\n",
       ".dataframe > tbody > tr {\n",
       "  text-align: right;\n",
       "  white-space: pre-wrap;\n",
       "}\n",
       "</style>\n",
       "<small>shape: (8, 5)</small><table border=\"1\" class=\"dataframe\"><thead><tr><th>chrom</th><th>chromStart</th><th>chromEnd</th><th>POS</th><th>ALT</th></tr><tr><td>cat</td><td>i64</td><td>i64</td><td>i64</td><td>str</td></tr></thead><tbody><tr><td>&quot;20&quot;</td><td>14360</td><td>14380</td><td>14370</td><td>&quot;T&quot;</td></tr><tr><td>&quot;19&quot;</td><td>1010685</td><td>1010705</td><td>1010695</td><td>&quot;T&quot;</td></tr><tr><td>&quot;19&quot;</td><td>101</td><td>121</td><td>111</td><td>&quot;T&quot;</td></tr><tr><td>&quot;20&quot;</td><td>17320</td><td>17340</td><td>17330</td><td>&quot;T&quot;</td></tr><tr><td>&quot;19&quot;</td><td>1110686</td><td>1110706</td><td>1110696</td><td>&quot;T&quot;</td></tr><tr><td>&quot;19&quot;</td><td>1210686</td><td>1210706</td><td>1210696</td><td>&quot;T&quot;</td></tr><tr><td>&quot;20&quot;</td><td>1110686</td><td>1110706</td><td>1110696</td><td>&quot;T&quot;</td></tr><tr><td>&quot;20&quot;</td><td>1234555</td><td>1234575</td><td>1234565</td><td>&quot;T&quot;</td></tr></tbody></table></div>"
      ],
      "text/plain": [
       "shape: (8, 5)\n",
       "┌───────┬────────────┬──────────┬─────────┬─────┐\n",
       "│ chrom ┆ chromStart ┆ chromEnd ┆ POS     ┆ ALT │\n",
       "│ ---   ┆ ---        ┆ ---      ┆ ---     ┆ --- │\n",
       "│ cat   ┆ i64        ┆ i64      ┆ i64     ┆ str │\n",
       "╞═══════╪════════════╪══════════╪═════════╪═════╡\n",
       "│ 20    ┆ 14360      ┆ 14380    ┆ 14370   ┆ T   │\n",
       "│ 19    ┆ 1010685    ┆ 1010705  ┆ 1010695 ┆ T   │\n",
       "│ 19    ┆ 101        ┆ 121      ┆ 111     ┆ T   │\n",
       "│ 20    ┆ 17320      ┆ 17340    ┆ 17330   ┆ T   │\n",
       "│ 19    ┆ 1110686    ┆ 1110706  ┆ 1110696 ┆ T   │\n",
       "│ 19    ┆ 1210686    ┆ 1210706  ┆ 1210696 ┆ T   │\n",
       "│ 20    ┆ 1110686    ┆ 1110706  ┆ 1110696 ┆ T   │\n",
       "│ 20    ┆ 1234555    ┆ 1234575  ┆ 1234565 ┆ T   │\n",
       "└───────┴────────────┴──────────┴─────────┴─────┘"
      ]
     },
     "execution_count": 31,
     "metadata": {},
     "output_type": "execute_result"
    }
   ],
   "source": [
    "cv_ds = gvl.DatasetWithSites(ds, sites)\n",
    "cv_ds.rows"
   ]
  },
  {
   "cell_type": "code",
   "execution_count": 32,
   "metadata": {},
   "outputs": [],
   "source": [
    "r_idx, s_idx = np.unravel_index(np.arange(len(cv_ds)), cv_ds.shape)\n",
    "haps, flags = cv_ds[r_idx, s_idx]"
   ]
  },
  {
   "cell_type": "code",
   "execution_count": 33,
   "metadata": {},
   "outputs": [],
   "source": [
    "# (b p), (b p l) -sum-> (b p)\n",
    "np.testing.assert_equal(flags == 0, (haps.var_idxs == -2).sum(-1) == 1)"
   ]
  }
 ],
 "metadata": {
  "kernelspec": {
   "display_name": "GVL Docs",
   "language": "python",
   "name": "gvl-docs"
  },
  "language_info": {
   "codemirror_mode": {
    "name": "ipython",
    "version": 3
   },
   "file_extension": ".py",
   "mimetype": "text/x-python",
   "name": "python",
   "nbconvert_exporter": "python",
   "pygments_lexer": "ipython3",
   "version": "3.10.16"
  }
 },
 "nbformat": 4,
 "nbformat_minor": 2
}
